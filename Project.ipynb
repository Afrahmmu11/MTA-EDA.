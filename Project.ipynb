{
  "nbformat": 4,
  "nbformat_minor": 0,
  "metadata": {
    "kernelspec": {
      "display_name": "Python [conda env:metis] *",
      "language": "python",
      "name": "conda-env-metis-py"
    },
    "language_info": {
      "codemirror_mode": {
        "name": "ipython",
        "version": 3
      },
      "file_extension": ".py",
      "mimetype": "text/x-python",
      "name": "python",
      "nbconvert_exporter": "python",
      "pygments_lexer": "ipython3",
      "version": "3.8.6"
    },
    "toc": {
      "base_numbering": 1,
      "nav_menu": {},
      "number_sections": false,
      "sideBar": true,
      "skip_h1_title": false,
      "title_cell": "Table of Contents",
      "title_sidebar": "Contents",
      "toc_cell": false,
      "toc_position": {
        "height": "calc(100% - 180px)",
        "left": "10px",
        "top": "150px",
        "width": "288px"
      },
      "toc_section_display": true,
      "toc_window_display": true
    },
    "colab": {
      "name": "Project.ipynb",
      "provenance": [],
      "toc_visible": true
    }
  },
  "cells": [
    {
      "cell_type": "markdown",
      "metadata": {
        "id": "w4EoCSa8lwuQ"
      },
      "source": [
        "# MTA Analysis"
      ]
    },
    {
      "cell_type": "code",
      "metadata": {
        "id": "imZFIsw7lwuU"
      },
      "source": [
        "from sqlalchemy import create_engine\n",
        "import pandas as pd\n",
        "import datetime\n",
        "import seaborn as sns\n",
        "%matplotlib inline\n",
        "import matplotlib.pyplot as plt\n"
      ],
      "execution_count": 1,
      "outputs": []
    },
    {
      "cell_type": "code",
      "metadata": {
        "colab": {
          "base_uri": "https://localhost:8080/",
          "height": 206
        },
        "id": "U_K-SpShlwuV",
        "outputId": "a26911c8-184c-4c01-b26f-aeecf2acf0e4"
      },
      "source": [
        "# Source: http://web.mta.info/developers/turnstile.html\n",
        "dates=[210417, 210410 , 210403 ,210327 ,210320 , 210313 ,210306 , 210227 , 210220 , 210213 ,210206  ]\n",
        "turnstiles_df=pd.read_csv('http://web.mta.info/developers/data/nyct/turnstile/turnstile_210424.txt')\n",
        "for i in dates:\n",
        "    temp= pd.read_csv(f\"http://web.mta.info/developers/data/nyct/turnstile/turnstile_{i}.txt\")  \n",
        "    turnstiles_df= pd.concat([turnstiles_df, temp])\n",
        "\n",
        "turnstiles_df.head()"
      ],
      "execution_count": 2,
      "outputs": [
        {
          "output_type": "execute_result",
          "data": {
            "text/html": [
              "<div>\n",
              "<style scoped>\n",
              "    .dataframe tbody tr th:only-of-type {\n",
              "        vertical-align: middle;\n",
              "    }\n",
              "\n",
              "    .dataframe tbody tr th {\n",
              "        vertical-align: top;\n",
              "    }\n",
              "\n",
              "    .dataframe thead th {\n",
              "        text-align: right;\n",
              "    }\n",
              "</style>\n",
              "<table border=\"1\" class=\"dataframe\">\n",
              "  <thead>\n",
              "    <tr style=\"text-align: right;\">\n",
              "      <th></th>\n",
              "      <th>C/A</th>\n",
              "      <th>UNIT</th>\n",
              "      <th>SCP</th>\n",
              "      <th>STATION</th>\n",
              "      <th>LINENAME</th>\n",
              "      <th>DIVISION</th>\n",
              "      <th>DATE</th>\n",
              "      <th>TIME</th>\n",
              "      <th>DESC</th>\n",
              "      <th>ENTRIES</th>\n",
              "      <th>EXITS</th>\n",
              "    </tr>\n",
              "  </thead>\n",
              "  <tbody>\n",
              "    <tr>\n",
              "      <th>0</th>\n",
              "      <td>A002</td>\n",
              "      <td>R051</td>\n",
              "      <td>02-00-00</td>\n",
              "      <td>59 ST</td>\n",
              "      <td>NQR456W</td>\n",
              "      <td>BMT</td>\n",
              "      <td>04/17/2021</td>\n",
              "      <td>00:00:00</td>\n",
              "      <td>REGULAR</td>\n",
              "      <td>7557815</td>\n",
              "      <td>2581231</td>\n",
              "    </tr>\n",
              "    <tr>\n",
              "      <th>1</th>\n",
              "      <td>A002</td>\n",
              "      <td>R051</td>\n",
              "      <td>02-00-00</td>\n",
              "      <td>59 ST</td>\n",
              "      <td>NQR456W</td>\n",
              "      <td>BMT</td>\n",
              "      <td>04/17/2021</td>\n",
              "      <td>04:00:00</td>\n",
              "      <td>REGULAR</td>\n",
              "      <td>7557822</td>\n",
              "      <td>2581234</td>\n",
              "    </tr>\n",
              "    <tr>\n",
              "      <th>2</th>\n",
              "      <td>A002</td>\n",
              "      <td>R051</td>\n",
              "      <td>02-00-00</td>\n",
              "      <td>59 ST</td>\n",
              "      <td>NQR456W</td>\n",
              "      <td>BMT</td>\n",
              "      <td>04/17/2021</td>\n",
              "      <td>08:00:00</td>\n",
              "      <td>REGULAR</td>\n",
              "      <td>7557829</td>\n",
              "      <td>2581248</td>\n",
              "    </tr>\n",
              "    <tr>\n",
              "      <th>3</th>\n",
              "      <td>A002</td>\n",
              "      <td>R051</td>\n",
              "      <td>02-00-00</td>\n",
              "      <td>59 ST</td>\n",
              "      <td>NQR456W</td>\n",
              "      <td>BMT</td>\n",
              "      <td>04/17/2021</td>\n",
              "      <td>12:00:00</td>\n",
              "      <td>REGULAR</td>\n",
              "      <td>7557891</td>\n",
              "      <td>2581318</td>\n",
              "    </tr>\n",
              "    <tr>\n",
              "      <th>4</th>\n",
              "      <td>A002</td>\n",
              "      <td>R051</td>\n",
              "      <td>02-00-00</td>\n",
              "      <td>59 ST</td>\n",
              "      <td>NQR456W</td>\n",
              "      <td>BMT</td>\n",
              "      <td>04/17/2021</td>\n",
              "      <td>16:00:00</td>\n",
              "      <td>REGULAR</td>\n",
              "      <td>7558017</td>\n",
              "      <td>2581365</td>\n",
              "    </tr>\n",
              "  </tbody>\n",
              "</table>\n",
              "</div>"
            ],
            "text/plain": [
              "    C/A  ... EXITS                                                               \n",
              "0  A002  ...                                            2581231                  \n",
              "1  A002  ...                                            2581234                  \n",
              "2  A002  ...                                            2581248                  \n",
              "3  A002  ...                                            2581318                  \n",
              "4  A002  ...                                            2581365                  \n",
              "\n",
              "[5 rows x 11 columns]"
            ]
          },
          "metadata": {},
          "execution_count": 2
        }
      ]
    },
    {
      "cell_type": "code",
      "metadata": {
        "id": "62xj-oUuwubL"
      },
      "source": [
        "engine = create_engine(\"sqlite:///MTA_data.db\") \n",
        "turnstiles_df.to_sql('MTA_data',engine,if_exists='replace',index=False)"
      ],
      "execution_count": 3,
      "outputs": []
    },
    {
      "cell_type": "code",
      "metadata": {
        "colab": {
          "base_uri": "https://localhost:8080/"
        },
        "id": "NOGF61Amz8cw",
        "outputId": "0fde6e28-efe0-4537-bb1d-4c45372f3a76"
      },
      "source": [
        "all_tables = engine.table_names()\n",
        "print(all_tables)"
      ],
      "execution_count": 8,
      "outputs": [
        {
          "output_type": "stream",
          "name": "stdout",
          "text": [
            "['MTA_data']\n"
          ]
        },
        {
          "output_type": "stream",
          "name": "stderr",
          "text": [
            "/usr/local/lib/python3.7/dist-packages/ipykernel_launcher.py:1: SADeprecationWarning: The Engine.table_names() method is deprecated and will be removed in a future release.  Please refer to Inspector.get_table_names(). (deprecated since: 1.4)\n",
            "  \"\"\"Entry point for launching an IPython kernel.\n"
          ]
        }
      ]
    },
    {
      "cell_type": "code",
      "metadata": {
        "colab": {
          "base_uri": "https://localhost:8080/",
          "height": 423
        },
        "id": "1Neijc7c0Syc",
        "outputId": "7bab7c7a-12fc-4b43-b518-d9bef4452446"
      },
      "source": [
        "turnstiles_df = pd.read_sql('SELECT * FROM  MTA_data ;', engine)\n",
        "turnstiles_df"
      ],
      "execution_count": 9,
      "outputs": [
        {
          "output_type": "execute_result",
          "data": {
            "text/html": [
              "<div>\n",
              "<style scoped>\n",
              "    .dataframe tbody tr th:only-of-type {\n",
              "        vertical-align: middle;\n",
              "    }\n",
              "\n",
              "    .dataframe tbody tr th {\n",
              "        vertical-align: top;\n",
              "    }\n",
              "\n",
              "    .dataframe thead th {\n",
              "        text-align: right;\n",
              "    }\n",
              "</style>\n",
              "<table border=\"1\" class=\"dataframe\">\n",
              "  <thead>\n",
              "    <tr style=\"text-align: right;\">\n",
              "      <th></th>\n",
              "      <th>C/A</th>\n",
              "      <th>UNIT</th>\n",
              "      <th>SCP</th>\n",
              "      <th>STATION</th>\n",
              "      <th>LINENAME</th>\n",
              "      <th>DIVISION</th>\n",
              "      <th>DATE</th>\n",
              "      <th>TIME</th>\n",
              "      <th>DESC</th>\n",
              "      <th>ENTRIES</th>\n",
              "      <th>EXITS</th>\n",
              "    </tr>\n",
              "  </thead>\n",
              "  <tbody>\n",
              "    <tr>\n",
              "      <th>0</th>\n",
              "      <td>A002</td>\n",
              "      <td>R051</td>\n",
              "      <td>02-00-00</td>\n",
              "      <td>59 ST</td>\n",
              "      <td>NQR456W</td>\n",
              "      <td>BMT</td>\n",
              "      <td>04/17/2021</td>\n",
              "      <td>00:00:00</td>\n",
              "      <td>REGULAR</td>\n",
              "      <td>7557815</td>\n",
              "      <td>2581231</td>\n",
              "    </tr>\n",
              "    <tr>\n",
              "      <th>1</th>\n",
              "      <td>A002</td>\n",
              "      <td>R051</td>\n",
              "      <td>02-00-00</td>\n",
              "      <td>59 ST</td>\n",
              "      <td>NQR456W</td>\n",
              "      <td>BMT</td>\n",
              "      <td>04/17/2021</td>\n",
              "      <td>04:00:00</td>\n",
              "      <td>REGULAR</td>\n",
              "      <td>7557822</td>\n",
              "      <td>2581234</td>\n",
              "    </tr>\n",
              "    <tr>\n",
              "      <th>2</th>\n",
              "      <td>A002</td>\n",
              "      <td>R051</td>\n",
              "      <td>02-00-00</td>\n",
              "      <td>59 ST</td>\n",
              "      <td>NQR456W</td>\n",
              "      <td>BMT</td>\n",
              "      <td>04/17/2021</td>\n",
              "      <td>08:00:00</td>\n",
              "      <td>REGULAR</td>\n",
              "      <td>7557829</td>\n",
              "      <td>2581248</td>\n",
              "    </tr>\n",
              "    <tr>\n",
              "      <th>3</th>\n",
              "      <td>A002</td>\n",
              "      <td>R051</td>\n",
              "      <td>02-00-00</td>\n",
              "      <td>59 ST</td>\n",
              "      <td>NQR456W</td>\n",
              "      <td>BMT</td>\n",
              "      <td>04/17/2021</td>\n",
              "      <td>12:00:00</td>\n",
              "      <td>REGULAR</td>\n",
              "      <td>7557891</td>\n",
              "      <td>2581318</td>\n",
              "    </tr>\n",
              "    <tr>\n",
              "      <th>4</th>\n",
              "      <td>A002</td>\n",
              "      <td>R051</td>\n",
              "      <td>02-00-00</td>\n",
              "      <td>59 ST</td>\n",
              "      <td>NQR456W</td>\n",
              "      <td>BMT</td>\n",
              "      <td>04/17/2021</td>\n",
              "      <td>16:00:00</td>\n",
              "      <td>REGULAR</td>\n",
              "      <td>7558017</td>\n",
              "      <td>2581365</td>\n",
              "    </tr>\n",
              "    <tr>\n",
              "      <th>...</th>\n",
              "      <td>...</td>\n",
              "      <td>...</td>\n",
              "      <td>...</td>\n",
              "      <td>...</td>\n",
              "      <td>...</td>\n",
              "      <td>...</td>\n",
              "      <td>...</td>\n",
              "      <td>...</td>\n",
              "      <td>...</td>\n",
              "      <td>...</td>\n",
              "      <td>...</td>\n",
              "    </tr>\n",
              "    <tr>\n",
              "      <th>2509012</th>\n",
              "      <td>TRAM2</td>\n",
              "      <td>R469</td>\n",
              "      <td>00-05-01</td>\n",
              "      <td>RIT-ROOSEVELT</td>\n",
              "      <td>R</td>\n",
              "      <td>RIT</td>\n",
              "      <td>02/05/2021</td>\n",
              "      <td>04:00:00</td>\n",
              "      <td>REGULAR</td>\n",
              "      <td>5554</td>\n",
              "      <td>544</td>\n",
              "    </tr>\n",
              "    <tr>\n",
              "      <th>2509013</th>\n",
              "      <td>TRAM2</td>\n",
              "      <td>R469</td>\n",
              "      <td>00-05-01</td>\n",
              "      <td>RIT-ROOSEVELT</td>\n",
              "      <td>R</td>\n",
              "      <td>RIT</td>\n",
              "      <td>02/05/2021</td>\n",
              "      <td>08:00:00</td>\n",
              "      <td>REGULAR</td>\n",
              "      <td>5554</td>\n",
              "      <td>544</td>\n",
              "    </tr>\n",
              "    <tr>\n",
              "      <th>2509014</th>\n",
              "      <td>TRAM2</td>\n",
              "      <td>R469</td>\n",
              "      <td>00-05-01</td>\n",
              "      <td>RIT-ROOSEVELT</td>\n",
              "      <td>R</td>\n",
              "      <td>RIT</td>\n",
              "      <td>02/05/2021</td>\n",
              "      <td>12:00:00</td>\n",
              "      <td>REGULAR</td>\n",
              "      <td>5554</td>\n",
              "      <td>544</td>\n",
              "    </tr>\n",
              "    <tr>\n",
              "      <th>2509015</th>\n",
              "      <td>TRAM2</td>\n",
              "      <td>R469</td>\n",
              "      <td>00-05-01</td>\n",
              "      <td>RIT-ROOSEVELT</td>\n",
              "      <td>R</td>\n",
              "      <td>RIT</td>\n",
              "      <td>02/05/2021</td>\n",
              "      <td>16:00:00</td>\n",
              "      <td>REGULAR</td>\n",
              "      <td>5554</td>\n",
              "      <td>544</td>\n",
              "    </tr>\n",
              "    <tr>\n",
              "      <th>2509016</th>\n",
              "      <td>TRAM2</td>\n",
              "      <td>R469</td>\n",
              "      <td>00-05-01</td>\n",
              "      <td>RIT-ROOSEVELT</td>\n",
              "      <td>R</td>\n",
              "      <td>RIT</td>\n",
              "      <td>02/05/2021</td>\n",
              "      <td>20:00:00</td>\n",
              "      <td>REGULAR</td>\n",
              "      <td>5554</td>\n",
              "      <td>544</td>\n",
              "    </tr>\n",
              "  </tbody>\n",
              "</table>\n",
              "<p>2509017 rows × 11 columns</p>\n",
              "</div>"
            ],
            "text/plain": [
              "           C/A  ... EXITS                                                               \n",
              "0         A002  ...                                            2581231                  \n",
              "1         A002  ...                                            2581234                  \n",
              "2         A002  ...                                            2581248                  \n",
              "3         A002  ...                                            2581318                  \n",
              "4         A002  ...                                            2581365                  \n",
              "...        ...  ...                                                ...                  \n",
              "2509012  TRAM2  ...                                                544                  \n",
              "2509013  TRAM2  ...                                                544                  \n",
              "2509014  TRAM2  ...                                                544                  \n",
              "2509015  TRAM2  ...                                                544                  \n",
              "2509016  TRAM2  ...                                                544                  \n",
              "\n",
              "[2509017 rows x 11 columns]"
            ]
          },
          "metadata": {},
          "execution_count": 9
        }
      ]
    },
    {
      "cell_type": "code",
      "metadata": {
        "colab": {
          "base_uri": "https://localhost:8080/"
        },
        "id": "SUOyM_8SSZYb",
        "outputId": "a0f6cf19-405b-46db-e721-edfe48d63db7"
      },
      "source": [
        "turnstiles_df.shape"
      ],
      "execution_count": 4,
      "outputs": [
        {
          "output_type": "execute_result",
          "data": {
            "text/plain": [
              "(2509017, 11)"
            ]
          },
          "metadata": {},
          "execution_count": 4
        }
      ]
    },
    {
      "cell_type": "code",
      "metadata": {
        "scrolled": true,
        "colab": {
          "base_uri": "https://localhost:8080/"
        },
        "id": "XO5sU09TlwuW",
        "outputId": "2e929a18-1cec-4891-ce61-367afcfb9408"
      },
      "source": [
        "turnstiles_df.columns "
      ],
      "execution_count": 5,
      "outputs": [
        {
          "output_type": "execute_result",
          "data": {
            "text/plain": [
              "Index(['C/A', 'UNIT', 'SCP', 'STATION', 'LINENAME', 'DIVISION', 'DATE', 'TIME',\n",
              "       'DESC', 'ENTRIES',\n",
              "       'EXITS                                                               '],\n",
              "      dtype='object')"
            ]
          },
          "metadata": {},
          "execution_count": 5
        }
      ]
    },
    {
      "cell_type": "code",
      "metadata": {
        "colab": {
          "base_uri": "https://localhost:8080/"
        },
        "id": "dm5Ee_E2lwuW",
        "outputId": "30bd26b8-5509-4787-b47e-a35f4d904457"
      },
      "source": [
        "turnstiles_df.columns = [column.strip() for column in turnstiles_df.columns] # #I need to strip the stirngs in column in order to remove whitespaces\n",
        "turnstiles_df.columns"
      ],
      "execution_count": 6,
      "outputs": [
        {
          "output_type": "execute_result",
          "data": {
            "text/plain": [
              "Index(['C/A', 'UNIT', 'SCP', 'STATION', 'LINENAME', 'DIVISION', 'DATE', 'TIME',\n",
              "       'DESC', 'ENTRIES', 'EXITS'],\n",
              "      dtype='object')"
            ]
          },
          "metadata": {},
          "execution_count": 6
        }
      ]
    },
    {
      "cell_type": "code",
      "metadata": {
        "colab": {
          "base_uri": "https://localhost:8080/"
        },
        "id": "eHylct3alwuX",
        "outputId": "13502f62-2c88-4668-8df8-6d6a5a0b06d3"
      },
      "source": [
        "\n",
        "turnstiles_df.DATE.value_counts().sort_index() # Sort"
      ],
      "execution_count": 7,
      "outputs": [
        {
          "output_type": "execute_result",
          "data": {
            "text/plain": [
              "01/30/2021    29845\n",
              "01/31/2021    29786\n",
              "02/01/2021    29971\n",
              "02/02/2021    29802\n",
              "02/03/2021    29975\n",
              "              ...  \n",
              "04/19/2021    29910\n",
              "04/20/2021    29816\n",
              "04/21/2021    29821\n",
              "04/22/2021    29926\n",
              "04/23/2021    29945\n",
              "Name: DATE, Length: 84, dtype: int64"
            ]
          },
          "metadata": {},
          "execution_count": 7
        }
      ]
    },
    {
      "cell_type": "code",
      "metadata": {
        "id": "hdIHXigNlwuZ"
      },
      "source": [
        "# #I will combine and convert the DATE and TIME columns\n",
        "turnstiles_df[\"DATE_TIME\"] = pd.to_datetime(turnstiles_df.DATE + \" \" + turnstiles_df.TIME, \n",
        "                                            format=\"%m/%d/%Y %H:%M:%S\")"
      ],
      "execution_count": 8,
      "outputs": []
    },
    {
      "cell_type": "code",
      "metadata": {
        "scrolled": true,
        "colab": {
          "base_uri": "https://localhost:8080/",
          "height": 206
        },
        "id": "4HCh2-35lwuZ",
        "outputId": "cd0b6b03-ee05-4eb1-d17f-3a570be5e16b"
      },
      "source": [
        "turnstiles_df.head()"
      ],
      "execution_count": 9,
      "outputs": [
        {
          "output_type": "execute_result",
          "data": {
            "text/html": [
              "<div>\n",
              "<style scoped>\n",
              "    .dataframe tbody tr th:only-of-type {\n",
              "        vertical-align: middle;\n",
              "    }\n",
              "\n",
              "    .dataframe tbody tr th {\n",
              "        vertical-align: top;\n",
              "    }\n",
              "\n",
              "    .dataframe thead th {\n",
              "        text-align: right;\n",
              "    }\n",
              "</style>\n",
              "<table border=\"1\" class=\"dataframe\">\n",
              "  <thead>\n",
              "    <tr style=\"text-align: right;\">\n",
              "      <th></th>\n",
              "      <th>C/A</th>\n",
              "      <th>UNIT</th>\n",
              "      <th>SCP</th>\n",
              "      <th>STATION</th>\n",
              "      <th>LINENAME</th>\n",
              "      <th>DIVISION</th>\n",
              "      <th>DATE</th>\n",
              "      <th>TIME</th>\n",
              "      <th>DESC</th>\n",
              "      <th>ENTRIES</th>\n",
              "      <th>EXITS</th>\n",
              "      <th>DATE_TIME</th>\n",
              "    </tr>\n",
              "  </thead>\n",
              "  <tbody>\n",
              "    <tr>\n",
              "      <th>0</th>\n",
              "      <td>A002</td>\n",
              "      <td>R051</td>\n",
              "      <td>02-00-00</td>\n",
              "      <td>59 ST</td>\n",
              "      <td>NQR456W</td>\n",
              "      <td>BMT</td>\n",
              "      <td>04/17/2021</td>\n",
              "      <td>00:00:00</td>\n",
              "      <td>REGULAR</td>\n",
              "      <td>7557815</td>\n",
              "      <td>2581231</td>\n",
              "      <td>2021-04-17 00:00:00</td>\n",
              "    </tr>\n",
              "    <tr>\n",
              "      <th>1</th>\n",
              "      <td>A002</td>\n",
              "      <td>R051</td>\n",
              "      <td>02-00-00</td>\n",
              "      <td>59 ST</td>\n",
              "      <td>NQR456W</td>\n",
              "      <td>BMT</td>\n",
              "      <td>04/17/2021</td>\n",
              "      <td>04:00:00</td>\n",
              "      <td>REGULAR</td>\n",
              "      <td>7557822</td>\n",
              "      <td>2581234</td>\n",
              "      <td>2021-04-17 04:00:00</td>\n",
              "    </tr>\n",
              "    <tr>\n",
              "      <th>2</th>\n",
              "      <td>A002</td>\n",
              "      <td>R051</td>\n",
              "      <td>02-00-00</td>\n",
              "      <td>59 ST</td>\n",
              "      <td>NQR456W</td>\n",
              "      <td>BMT</td>\n",
              "      <td>04/17/2021</td>\n",
              "      <td>08:00:00</td>\n",
              "      <td>REGULAR</td>\n",
              "      <td>7557829</td>\n",
              "      <td>2581248</td>\n",
              "      <td>2021-04-17 08:00:00</td>\n",
              "    </tr>\n",
              "    <tr>\n",
              "      <th>3</th>\n",
              "      <td>A002</td>\n",
              "      <td>R051</td>\n",
              "      <td>02-00-00</td>\n",
              "      <td>59 ST</td>\n",
              "      <td>NQR456W</td>\n",
              "      <td>BMT</td>\n",
              "      <td>04/17/2021</td>\n",
              "      <td>12:00:00</td>\n",
              "      <td>REGULAR</td>\n",
              "      <td>7557891</td>\n",
              "      <td>2581318</td>\n",
              "      <td>2021-04-17 12:00:00</td>\n",
              "    </tr>\n",
              "    <tr>\n",
              "      <th>4</th>\n",
              "      <td>A002</td>\n",
              "      <td>R051</td>\n",
              "      <td>02-00-00</td>\n",
              "      <td>59 ST</td>\n",
              "      <td>NQR456W</td>\n",
              "      <td>BMT</td>\n",
              "      <td>04/17/2021</td>\n",
              "      <td>16:00:00</td>\n",
              "      <td>REGULAR</td>\n",
              "      <td>7558017</td>\n",
              "      <td>2581365</td>\n",
              "      <td>2021-04-17 16:00:00</td>\n",
              "    </tr>\n",
              "  </tbody>\n",
              "</table>\n",
              "</div>"
            ],
            "text/plain": [
              "    C/A  UNIT       SCP STATION  ...     DESC  ENTRIES    EXITS           DATE_TIME\n",
              "0  A002  R051  02-00-00   59 ST  ...  REGULAR  7557815  2581231 2021-04-17 00:00:00\n",
              "1  A002  R051  02-00-00   59 ST  ...  REGULAR  7557822  2581234 2021-04-17 04:00:00\n",
              "2  A002  R051  02-00-00   59 ST  ...  REGULAR  7557829  2581248 2021-04-17 08:00:00\n",
              "3  A002  R051  02-00-00   59 ST  ...  REGULAR  7557891  2581318 2021-04-17 12:00:00\n",
              "4  A002  R051  02-00-00   59 ST  ...  REGULAR  7558017  2581365 2021-04-17 16:00:00\n",
              "\n",
              "[5 rows x 12 columns]"
            ]
          },
          "metadata": {},
          "execution_count": 9
        }
      ]
    },
    {
      "cell_type": "code",
      "metadata": {
        "colab": {
          "base_uri": "https://localhost:8080/",
          "height": 206
        },
        "id": "rnyDrnbjG36C",
        "outputId": "76f5fccc-ca1d-42ea-bab3-43e8d3f44a4e"
      },
      "source": [
        "# I will check if we have duplicate rows and drop them\n",
        "(turnstiles_df.groupby([\"C/A\", \"UNIT\", \"SCP\", \"STATION\", \"DATE_TIME\"]).ENTRIES.count().reset_index().sort_values(\"ENTRIES\", ascending=False)).head(5)"
      ],
      "execution_count": 10,
      "outputs": [
        {
          "output_type": "execute_result",
          "data": {
            "text/html": [
              "<div>\n",
              "<style scoped>\n",
              "    .dataframe tbody tr th:only-of-type {\n",
              "        vertical-align: middle;\n",
              "    }\n",
              "\n",
              "    .dataframe tbody tr th {\n",
              "        vertical-align: top;\n",
              "    }\n",
              "\n",
              "    .dataframe thead th {\n",
              "        text-align: right;\n",
              "    }\n",
              "</style>\n",
              "<table border=\"1\" class=\"dataframe\">\n",
              "  <thead>\n",
              "    <tr style=\"text-align: right;\">\n",
              "      <th></th>\n",
              "      <th>C/A</th>\n",
              "      <th>UNIT</th>\n",
              "      <th>SCP</th>\n",
              "      <th>STATION</th>\n",
              "      <th>DATE_TIME</th>\n",
              "      <th>ENTRIES</th>\n",
              "    </tr>\n",
              "  </thead>\n",
              "  <tbody>\n",
              "    <tr>\n",
              "      <th>1687584</th>\n",
              "      <td>R145</td>\n",
              "      <td>R032</td>\n",
              "      <td>00-00-02</td>\n",
              "      <td>TIMES SQ-42 ST</td>\n",
              "      <td>2021-02-02 07:00:00</td>\n",
              "      <td>2</td>\n",
              "    </tr>\n",
              "    <tr>\n",
              "      <th>1687602</th>\n",
              "      <td>R145</td>\n",
              "      <td>R032</td>\n",
              "      <td>00-00-02</td>\n",
              "      <td>TIMES SQ-42 ST</td>\n",
              "      <td>2021-02-05 07:00:00</td>\n",
              "      <td>2</td>\n",
              "    </tr>\n",
              "    <tr>\n",
              "      <th>679273</th>\n",
              "      <td>N071</td>\n",
              "      <td>R013</td>\n",
              "      <td>00-00-01</td>\n",
              "      <td>34 ST-PENN STA</td>\n",
              "      <td>2021-04-08 08:00:00</td>\n",
              "      <td>2</td>\n",
              "    </tr>\n",
              "    <tr>\n",
              "      <th>681309</th>\n",
              "      <td>N071</td>\n",
              "      <td>R013</td>\n",
              "      <td>00-06-00</td>\n",
              "      <td>34 ST-PENN STA</td>\n",
              "      <td>2021-04-08 08:00:00</td>\n",
              "      <td>2</td>\n",
              "    </tr>\n",
              "    <tr>\n",
              "      <th>680283</th>\n",
              "      <td>N071</td>\n",
              "      <td>R013</td>\n",
              "      <td>00-00-03</td>\n",
              "      <td>34 ST-PENN STA</td>\n",
              "      <td>2021-04-08 08:00:00</td>\n",
              "      <td>2</td>\n",
              "    </tr>\n",
              "  </tbody>\n",
              "</table>\n",
              "</div>"
            ],
            "text/plain": [
              "          C/A  UNIT       SCP         STATION           DATE_TIME  ENTRIES\n",
              "1687584  R145  R032  00-00-02  TIMES SQ-42 ST 2021-02-02 07:00:00        2\n",
              "1687602  R145  R032  00-00-02  TIMES SQ-42 ST 2021-02-05 07:00:00        2\n",
              "679273   N071  R013  00-00-01  34 ST-PENN STA 2021-04-08 08:00:00        2\n",
              "681309   N071  R013  00-06-00  34 ST-PENN STA 2021-04-08 08:00:00        2\n",
              "680283   N071  R013  00-00-03  34 ST-PENN STA 2021-04-08 08:00:00        2"
            ]
          },
          "metadata": {},
          "execution_count": 10
        }
      ]
    },
    {
      "cell_type": "code",
      "metadata": {
        "id": "xrmUE6NWG36O"
      },
      "source": [
        "# drop duplicate value then sort \n",
        "turnstiles_df.sort_values([\"C/A\", \"UNIT\", \"SCP\", \"STATION\", \"DATE_TIME\"], \n",
        "                          inplace=True, ascending=False)\n",
        "turnstiles_df.drop_duplicates(subset=[\"C/A\", \"UNIT\", \"SCP\", \"STATION\", \"DATE_TIME\"], inplace=True)"
      ],
      "execution_count": 11,
      "outputs": []
    },
    {
      "cell_type": "code",
      "metadata": {
        "colab": {
          "base_uri": "https://localhost:8080/",
          "height": 206
        },
        "id": "uxXBlRMtG36S",
        "outputId": "cb64befd-42a8-4168-e039-841449c0ee34"
      },
      "source": [
        "# Sanity Check to verify that \"C/A\", \"UNIT\", \"SCP\", \"STATION\", \"DATE_TIME\" is unique\n",
        "(turnstiles_df\n",
        " .groupby([\"C/A\", \"UNIT\", \"SCP\", \"STATION\", \"DATE_TIME\"])\n",
        " .ENTRIES.count()\n",
        " .reset_index()\n",
        " .sort_values(\"ENTRIES\", ascending=False)).head(5)"
      ],
      "execution_count": 12,
      "outputs": [
        {
          "output_type": "execute_result",
          "data": {
            "text/html": [
              "<div>\n",
              "<style scoped>\n",
              "    .dataframe tbody tr th:only-of-type {\n",
              "        vertical-align: middle;\n",
              "    }\n",
              "\n",
              "    .dataframe tbody tr th {\n",
              "        vertical-align: top;\n",
              "    }\n",
              "\n",
              "    .dataframe thead th {\n",
              "        text-align: right;\n",
              "    }\n",
              "</style>\n",
              "<table border=\"1\" class=\"dataframe\">\n",
              "  <thead>\n",
              "    <tr style=\"text-align: right;\">\n",
              "      <th></th>\n",
              "      <th>C/A</th>\n",
              "      <th>UNIT</th>\n",
              "      <th>SCP</th>\n",
              "      <th>STATION</th>\n",
              "      <th>DATE_TIME</th>\n",
              "      <th>ENTRIES</th>\n",
              "    </tr>\n",
              "  </thead>\n",
              "  <tbody>\n",
              "    <tr>\n",
              "      <th>0</th>\n",
              "      <td>A002</td>\n",
              "      <td>R051</td>\n",
              "      <td>02-00-00</td>\n",
              "      <td>59 ST</td>\n",
              "      <td>2021-01-30 03:00:00</td>\n",
              "      <td>1</td>\n",
              "    </tr>\n",
              "    <tr>\n",
              "      <th>1672637</th>\n",
              "      <td>R138</td>\n",
              "      <td>R293</td>\n",
              "      <td>00-05-01</td>\n",
              "      <td>34 ST-PENN STA</td>\n",
              "      <td>2021-03-01 21:00:00</td>\n",
              "      <td>1</td>\n",
              "    </tr>\n",
              "    <tr>\n",
              "      <th>1672630</th>\n",
              "      <td>R138</td>\n",
              "      <td>R293</td>\n",
              "      <td>00-05-01</td>\n",
              "      <td>34 ST-PENN STA</td>\n",
              "      <td>2021-02-28 17:00:00</td>\n",
              "      <td>1</td>\n",
              "    </tr>\n",
              "    <tr>\n",
              "      <th>1672631</th>\n",
              "      <td>R138</td>\n",
              "      <td>R293</td>\n",
              "      <td>00-05-01</td>\n",
              "      <td>34 ST-PENN STA</td>\n",
              "      <td>2021-02-28 21:00:00</td>\n",
              "      <td>1</td>\n",
              "    </tr>\n",
              "    <tr>\n",
              "      <th>1672632</th>\n",
              "      <td>R138</td>\n",
              "      <td>R293</td>\n",
              "      <td>00-05-01</td>\n",
              "      <td>34 ST-PENN STA</td>\n",
              "      <td>2021-03-01 01:00:00</td>\n",
              "      <td>1</td>\n",
              "    </tr>\n",
              "  </tbody>\n",
              "</table>\n",
              "</div>"
            ],
            "text/plain": [
              "          C/A  UNIT       SCP         STATION           DATE_TIME  ENTRIES\n",
              "0        A002  R051  02-00-00           59 ST 2021-01-30 03:00:00        1\n",
              "1672637  R138  R293  00-05-01  34 ST-PENN STA 2021-03-01 21:00:00        1\n",
              "1672630  R138  R293  00-05-01  34 ST-PENN STA 2021-02-28 17:00:00        1\n",
              "1672631  R138  R293  00-05-01  34 ST-PENN STA 2021-02-28 21:00:00        1\n",
              "1672632  R138  R293  00-05-01  34 ST-PENN STA 2021-03-01 01:00:00        1"
            ]
          },
          "metadata": {},
          "execution_count": 12
        }
      ]
    },
    {
      "cell_type": "code",
      "metadata": {
        "colab": {
          "base_uri": "https://localhost:8080/",
          "height": 206
        },
        "id": "vUMhPFNhG36X",
        "outputId": "7b9de96e-e679-4378-831e-1afe9a12fcc2"
      },
      "source": [
        "# #I will drop the description column since we don't need it anymore\n",
        "turnstiles_df = turnstiles_df.drop([ \"DESC\"], axis=1, errors=\"ignore\")\n",
        "turnstiles_df.head()"
      ],
      "execution_count": 13,
      "outputs": [
        {
          "output_type": "execute_result",
          "data": {
            "text/html": [
              "<div>\n",
              "<style scoped>\n",
              "    .dataframe tbody tr th:only-of-type {\n",
              "        vertical-align: middle;\n",
              "    }\n",
              "\n",
              "    .dataframe tbody tr th {\n",
              "        vertical-align: top;\n",
              "    }\n",
              "\n",
              "    .dataframe thead th {\n",
              "        text-align: right;\n",
              "    }\n",
              "</style>\n",
              "<table border=\"1\" class=\"dataframe\">\n",
              "  <thead>\n",
              "    <tr style=\"text-align: right;\">\n",
              "      <th></th>\n",
              "      <th>C/A</th>\n",
              "      <th>UNIT</th>\n",
              "      <th>SCP</th>\n",
              "      <th>STATION</th>\n",
              "      <th>LINENAME</th>\n",
              "      <th>DIVISION</th>\n",
              "      <th>DATE</th>\n",
              "      <th>TIME</th>\n",
              "      <th>ENTRIES</th>\n",
              "      <th>EXITS</th>\n",
              "      <th>DATE_TIME</th>\n",
              "    </tr>\n",
              "  </thead>\n",
              "  <tbody>\n",
              "    <tr>\n",
              "      <th>209104</th>\n",
              "      <td>TRAM2</td>\n",
              "      <td>R469</td>\n",
              "      <td>00-05-01</td>\n",
              "      <td>RIT-ROOSEVELT</td>\n",
              "      <td>R</td>\n",
              "      <td>RIT</td>\n",
              "      <td>04/23/2021</td>\n",
              "      <td>21:00:00</td>\n",
              "      <td>5554</td>\n",
              "      <td>547</td>\n",
              "      <td>2021-04-23 21:00:00</td>\n",
              "    </tr>\n",
              "    <tr>\n",
              "      <th>209103</th>\n",
              "      <td>TRAM2</td>\n",
              "      <td>R469</td>\n",
              "      <td>00-05-01</td>\n",
              "      <td>RIT-ROOSEVELT</td>\n",
              "      <td>R</td>\n",
              "      <td>RIT</td>\n",
              "      <td>04/23/2021</td>\n",
              "      <td>17:00:00</td>\n",
              "      <td>5554</td>\n",
              "      <td>547</td>\n",
              "      <td>2021-04-23 17:00:00</td>\n",
              "    </tr>\n",
              "    <tr>\n",
              "      <th>209102</th>\n",
              "      <td>TRAM2</td>\n",
              "      <td>R469</td>\n",
              "      <td>00-05-01</td>\n",
              "      <td>RIT-ROOSEVELT</td>\n",
              "      <td>R</td>\n",
              "      <td>RIT</td>\n",
              "      <td>04/23/2021</td>\n",
              "      <td>13:00:00</td>\n",
              "      <td>5554</td>\n",
              "      <td>547</td>\n",
              "      <td>2021-04-23 13:00:00</td>\n",
              "    </tr>\n",
              "    <tr>\n",
              "      <th>209101</th>\n",
              "      <td>TRAM2</td>\n",
              "      <td>R469</td>\n",
              "      <td>00-05-01</td>\n",
              "      <td>RIT-ROOSEVELT</td>\n",
              "      <td>R</td>\n",
              "      <td>RIT</td>\n",
              "      <td>04/23/2021</td>\n",
              "      <td>09:00:00</td>\n",
              "      <td>5554</td>\n",
              "      <td>547</td>\n",
              "      <td>2021-04-23 09:00:00</td>\n",
              "    </tr>\n",
              "    <tr>\n",
              "      <th>209100</th>\n",
              "      <td>TRAM2</td>\n",
              "      <td>R469</td>\n",
              "      <td>00-05-01</td>\n",
              "      <td>RIT-ROOSEVELT</td>\n",
              "      <td>R</td>\n",
              "      <td>RIT</td>\n",
              "      <td>04/23/2021</td>\n",
              "      <td>05:00:00</td>\n",
              "      <td>5554</td>\n",
              "      <td>547</td>\n",
              "      <td>2021-04-23 05:00:00</td>\n",
              "    </tr>\n",
              "  </tbody>\n",
              "</table>\n",
              "</div>"
            ],
            "text/plain": [
              "          C/A  UNIT       SCP  ... ENTRIES EXITS           DATE_TIME\n",
              "209104  TRAM2  R469  00-05-01  ...    5554   547 2021-04-23 21:00:00\n",
              "209103  TRAM2  R469  00-05-01  ...    5554   547 2021-04-23 17:00:00\n",
              "209102  TRAM2  R469  00-05-01  ...    5554   547 2021-04-23 13:00:00\n",
              "209101  TRAM2  R469  00-05-01  ...    5554   547 2021-04-23 09:00:00\n",
              "209100  TRAM2  R469  00-05-01  ...    5554   547 2021-04-23 05:00:00\n",
              "\n",
              "[5 rows x 11 columns]"
            ]
          },
          "metadata": {},
          "execution_count": 13
        }
      ]
    },
    {
      "cell_type": "code",
      "metadata": {
        "colab": {
          "base_uri": "https://localhost:8080/"
        },
        "id": "o1IHtCut_lRX",
        "outputId": "1a1433ae-274e-4256-e415-048401ff7948"
      },
      "source": [
        "turnstiles_df.shape"
      ],
      "execution_count": 14,
      "outputs": [
        {
          "output_type": "execute_result",
          "data": {
            "text/plain": [
              "(2508951, 11)"
            ]
          },
          "metadata": {},
          "execution_count": 14
        }
      ]
    },
    {
      "cell_type": "code",
      "metadata": {
        "colab": {
          "base_uri": "https://localhost:8080/"
        },
        "id": "1NlNywYKTTc6",
        "outputId": "78eb3952-8215-4e72-a582-b62db609545e"
      },
      "source": [
        "#I will look for missing values\n",
        "turnstiles_df.info()"
      ],
      "execution_count": 15,
      "outputs": [
        {
          "output_type": "stream",
          "name": "stdout",
          "text": [
            "<class 'pandas.core.frame.DataFrame'>\n",
            "Int64Index: 2508951 entries, 209104 to 0\n",
            "Data columns (total 11 columns):\n",
            " #   Column     Dtype         \n",
            "---  ------     -----         \n",
            " 0   C/A        object        \n",
            " 1   UNIT       object        \n",
            " 2   SCP        object        \n",
            " 3   STATION    object        \n",
            " 4   LINENAME   object        \n",
            " 5   DIVISION   object        \n",
            " 6   DATE       object        \n",
            " 7   TIME       object        \n",
            " 8   ENTRIES    int64         \n",
            " 9   EXITS      int64         \n",
            " 10  DATE_TIME  datetime64[ns]\n",
            "dtypes: datetime64[ns](1), int64(2), object(8)\n",
            "memory usage: 229.7+ MB\n"
          ]
        }
      ]
    },
    {
      "cell_type": "code",
      "metadata": {
        "colab": {
          "base_uri": "https://localhost:8080/"
        },
        "id": "kt1IwBToTc8_",
        "outputId": "7f88e6f6-58af-4f15-82f2-afaecd4d25f7"
      },
      "source": [
        "turnstiles_df.isna().sum() #I will look for missing valuesno , null values found"
      ],
      "execution_count": 21,
      "outputs": [
        {
          "output_type": "execute_result",
          "data": {
            "text/plain": [
              "C/A          0\n",
              "UNIT         0\n",
              "SCP          0\n",
              "STATION      0\n",
              "LINENAME     0\n",
              "DIVISION     0\n",
              "DATE         0\n",
              "TIME         0\n",
              "ENTRIES      0\n",
              "EXITS        0\n",
              "DATE_TIME    0\n",
              "dtype: int64"
            ]
          },
          "metadata": {},
          "execution_count": 21
        }
      ]
    },
    {
      "cell_type": "code",
      "metadata": {
        "colab": {
          "base_uri": "https://localhost:8080/",
          "height": 423
        },
        "id": "2jlKhKRcTrQT",
        "outputId": "f7e7a351-2cf3-4d98-9d6e-6391546560fb"
      },
      "source": [
        "turnstiles_df.isna()"
      ],
      "execution_count": 22,
      "outputs": [
        {
          "output_type": "execute_result",
          "data": {
            "text/html": [
              "<div>\n",
              "<style scoped>\n",
              "    .dataframe tbody tr th:only-of-type {\n",
              "        vertical-align: middle;\n",
              "    }\n",
              "\n",
              "    .dataframe tbody tr th {\n",
              "        vertical-align: top;\n",
              "    }\n",
              "\n",
              "    .dataframe thead th {\n",
              "        text-align: right;\n",
              "    }\n",
              "</style>\n",
              "<table border=\"1\" class=\"dataframe\">\n",
              "  <thead>\n",
              "    <tr style=\"text-align: right;\">\n",
              "      <th></th>\n",
              "      <th>C/A</th>\n",
              "      <th>UNIT</th>\n",
              "      <th>SCP</th>\n",
              "      <th>STATION</th>\n",
              "      <th>LINENAME</th>\n",
              "      <th>DIVISION</th>\n",
              "      <th>DATE</th>\n",
              "      <th>TIME</th>\n",
              "      <th>ENTRIES</th>\n",
              "      <th>EXITS</th>\n",
              "      <th>DATE_TIME</th>\n",
              "    </tr>\n",
              "  </thead>\n",
              "  <tbody>\n",
              "    <tr>\n",
              "      <th>209104</th>\n",
              "      <td>False</td>\n",
              "      <td>False</td>\n",
              "      <td>False</td>\n",
              "      <td>False</td>\n",
              "      <td>False</td>\n",
              "      <td>False</td>\n",
              "      <td>False</td>\n",
              "      <td>False</td>\n",
              "      <td>False</td>\n",
              "      <td>False</td>\n",
              "      <td>False</td>\n",
              "    </tr>\n",
              "    <tr>\n",
              "      <th>209103</th>\n",
              "      <td>False</td>\n",
              "      <td>False</td>\n",
              "      <td>False</td>\n",
              "      <td>False</td>\n",
              "      <td>False</td>\n",
              "      <td>False</td>\n",
              "      <td>False</td>\n",
              "      <td>False</td>\n",
              "      <td>False</td>\n",
              "      <td>False</td>\n",
              "      <td>False</td>\n",
              "    </tr>\n",
              "    <tr>\n",
              "      <th>209102</th>\n",
              "      <td>False</td>\n",
              "      <td>False</td>\n",
              "      <td>False</td>\n",
              "      <td>False</td>\n",
              "      <td>False</td>\n",
              "      <td>False</td>\n",
              "      <td>False</td>\n",
              "      <td>False</td>\n",
              "      <td>False</td>\n",
              "      <td>False</td>\n",
              "      <td>False</td>\n",
              "    </tr>\n",
              "    <tr>\n",
              "      <th>209101</th>\n",
              "      <td>False</td>\n",
              "      <td>False</td>\n",
              "      <td>False</td>\n",
              "      <td>False</td>\n",
              "      <td>False</td>\n",
              "      <td>False</td>\n",
              "      <td>False</td>\n",
              "      <td>False</td>\n",
              "      <td>False</td>\n",
              "      <td>False</td>\n",
              "      <td>False</td>\n",
              "    </tr>\n",
              "    <tr>\n",
              "      <th>209100</th>\n",
              "      <td>False</td>\n",
              "      <td>False</td>\n",
              "      <td>False</td>\n",
              "      <td>False</td>\n",
              "      <td>False</td>\n",
              "      <td>False</td>\n",
              "      <td>False</td>\n",
              "      <td>False</td>\n",
              "      <td>False</td>\n",
              "      <td>False</td>\n",
              "      <td>False</td>\n",
              "    </tr>\n",
              "    <tr>\n",
              "      <th>...</th>\n",
              "      <td>...</td>\n",
              "      <td>...</td>\n",
              "      <td>...</td>\n",
              "      <td>...</td>\n",
              "      <td>...</td>\n",
              "      <td>...</td>\n",
              "      <td>...</td>\n",
              "      <td>...</td>\n",
              "      <td>...</td>\n",
              "      <td>...</td>\n",
              "      <td>...</td>\n",
              "    </tr>\n",
              "    <tr>\n",
              "      <th>2299942</th>\n",
              "      <td>False</td>\n",
              "      <td>False</td>\n",
              "      <td>False</td>\n",
              "      <td>False</td>\n",
              "      <td>False</td>\n",
              "      <td>False</td>\n",
              "      <td>False</td>\n",
              "      <td>False</td>\n",
              "      <td>False</td>\n",
              "      <td>False</td>\n",
              "      <td>False</td>\n",
              "    </tr>\n",
              "    <tr>\n",
              "      <th>2299941</th>\n",
              "      <td>False</td>\n",
              "      <td>False</td>\n",
              "      <td>False</td>\n",
              "      <td>False</td>\n",
              "      <td>False</td>\n",
              "      <td>False</td>\n",
              "      <td>False</td>\n",
              "      <td>False</td>\n",
              "      <td>False</td>\n",
              "      <td>False</td>\n",
              "      <td>False</td>\n",
              "    </tr>\n",
              "    <tr>\n",
              "      <th>2299940</th>\n",
              "      <td>False</td>\n",
              "      <td>False</td>\n",
              "      <td>False</td>\n",
              "      <td>False</td>\n",
              "      <td>False</td>\n",
              "      <td>False</td>\n",
              "      <td>False</td>\n",
              "      <td>False</td>\n",
              "      <td>False</td>\n",
              "      <td>False</td>\n",
              "      <td>False</td>\n",
              "    </tr>\n",
              "    <tr>\n",
              "      <th>2299939</th>\n",
              "      <td>False</td>\n",
              "      <td>False</td>\n",
              "      <td>False</td>\n",
              "      <td>False</td>\n",
              "      <td>False</td>\n",
              "      <td>False</td>\n",
              "      <td>False</td>\n",
              "      <td>False</td>\n",
              "      <td>False</td>\n",
              "      <td>False</td>\n",
              "      <td>False</td>\n",
              "    </tr>\n",
              "    <tr>\n",
              "      <th>2299938</th>\n",
              "      <td>False</td>\n",
              "      <td>False</td>\n",
              "      <td>False</td>\n",
              "      <td>False</td>\n",
              "      <td>False</td>\n",
              "      <td>False</td>\n",
              "      <td>False</td>\n",
              "      <td>False</td>\n",
              "      <td>False</td>\n",
              "      <td>False</td>\n",
              "      <td>False</td>\n",
              "    </tr>\n",
              "  </tbody>\n",
              "</table>\n",
              "<p>2508951 rows × 11 columns</p>\n",
              "</div>"
            ],
            "text/plain": [
              "           C/A   UNIT    SCP  STATION  ...   TIME  ENTRIES  EXITS  DATE_TIME\n",
              "209104   False  False  False    False  ...  False    False  False      False\n",
              "209103   False  False  False    False  ...  False    False  False      False\n",
              "209102   False  False  False    False  ...  False    False  False      False\n",
              "209101   False  False  False    False  ...  False    False  False      False\n",
              "209100   False  False  False    False  ...  False    False  False      False\n",
              "...        ...    ...    ...      ...  ...    ...      ...    ...        ...\n",
              "2299942  False  False  False    False  ...  False    False  False      False\n",
              "2299941  False  False  False    False  ...  False    False  False      False\n",
              "2299940  False  False  False    False  ...  False    False  False      False\n",
              "2299939  False  False  False    False  ...  False    False  False      False\n",
              "2299938  False  False  False    False  ...  False    False  False      False\n",
              "\n",
              "[2508951 rows x 11 columns]"
            ]
          },
          "metadata": {},
          "execution_count": 22
        }
      ]
    },
    {
      "cell_type": "code",
      "metadata": {
        "colab": {
          "base_uri": "https://localhost:8080/",
          "height": 206
        },
        "id": "vANRnEcNOcGm",
        "outputId": "a43d7a23-aed7-4481-b815-fb20bc524290"
      },
      "source": [
        "turnstiles_df[\"Traffic\"] = turnstiles_df[\"ENTRIES\"] +turnstiles_df[\"EXITS\"] \n",
        "turnstiles_df.head()"
      ],
      "execution_count": 16,
      "outputs": [
        {
          "output_type": "execute_result",
          "data": {
            "text/html": [
              "<div>\n",
              "<style scoped>\n",
              "    .dataframe tbody tr th:only-of-type {\n",
              "        vertical-align: middle;\n",
              "    }\n",
              "\n",
              "    .dataframe tbody tr th {\n",
              "        vertical-align: top;\n",
              "    }\n",
              "\n",
              "    .dataframe thead th {\n",
              "        text-align: right;\n",
              "    }\n",
              "</style>\n",
              "<table border=\"1\" class=\"dataframe\">\n",
              "  <thead>\n",
              "    <tr style=\"text-align: right;\">\n",
              "      <th></th>\n",
              "      <th>C/A</th>\n",
              "      <th>UNIT</th>\n",
              "      <th>SCP</th>\n",
              "      <th>STATION</th>\n",
              "      <th>LINENAME</th>\n",
              "      <th>DIVISION</th>\n",
              "      <th>DATE</th>\n",
              "      <th>TIME</th>\n",
              "      <th>ENTRIES</th>\n",
              "      <th>EXITS</th>\n",
              "      <th>DATE_TIME</th>\n",
              "      <th>Traffic</th>\n",
              "    </tr>\n",
              "  </thead>\n",
              "  <tbody>\n",
              "    <tr>\n",
              "      <th>209104</th>\n",
              "      <td>TRAM2</td>\n",
              "      <td>R469</td>\n",
              "      <td>00-05-01</td>\n",
              "      <td>RIT-ROOSEVELT</td>\n",
              "      <td>R</td>\n",
              "      <td>RIT</td>\n",
              "      <td>04/23/2021</td>\n",
              "      <td>21:00:00</td>\n",
              "      <td>5554</td>\n",
              "      <td>547</td>\n",
              "      <td>2021-04-23 21:00:00</td>\n",
              "      <td>6101</td>\n",
              "    </tr>\n",
              "    <tr>\n",
              "      <th>209103</th>\n",
              "      <td>TRAM2</td>\n",
              "      <td>R469</td>\n",
              "      <td>00-05-01</td>\n",
              "      <td>RIT-ROOSEVELT</td>\n",
              "      <td>R</td>\n",
              "      <td>RIT</td>\n",
              "      <td>04/23/2021</td>\n",
              "      <td>17:00:00</td>\n",
              "      <td>5554</td>\n",
              "      <td>547</td>\n",
              "      <td>2021-04-23 17:00:00</td>\n",
              "      <td>6101</td>\n",
              "    </tr>\n",
              "    <tr>\n",
              "      <th>209102</th>\n",
              "      <td>TRAM2</td>\n",
              "      <td>R469</td>\n",
              "      <td>00-05-01</td>\n",
              "      <td>RIT-ROOSEVELT</td>\n",
              "      <td>R</td>\n",
              "      <td>RIT</td>\n",
              "      <td>04/23/2021</td>\n",
              "      <td>13:00:00</td>\n",
              "      <td>5554</td>\n",
              "      <td>547</td>\n",
              "      <td>2021-04-23 13:00:00</td>\n",
              "      <td>6101</td>\n",
              "    </tr>\n",
              "    <tr>\n",
              "      <th>209101</th>\n",
              "      <td>TRAM2</td>\n",
              "      <td>R469</td>\n",
              "      <td>00-05-01</td>\n",
              "      <td>RIT-ROOSEVELT</td>\n",
              "      <td>R</td>\n",
              "      <td>RIT</td>\n",
              "      <td>04/23/2021</td>\n",
              "      <td>09:00:00</td>\n",
              "      <td>5554</td>\n",
              "      <td>547</td>\n",
              "      <td>2021-04-23 09:00:00</td>\n",
              "      <td>6101</td>\n",
              "    </tr>\n",
              "    <tr>\n",
              "      <th>209100</th>\n",
              "      <td>TRAM2</td>\n",
              "      <td>R469</td>\n",
              "      <td>00-05-01</td>\n",
              "      <td>RIT-ROOSEVELT</td>\n",
              "      <td>R</td>\n",
              "      <td>RIT</td>\n",
              "      <td>04/23/2021</td>\n",
              "      <td>05:00:00</td>\n",
              "      <td>5554</td>\n",
              "      <td>547</td>\n",
              "      <td>2021-04-23 05:00:00</td>\n",
              "      <td>6101</td>\n",
              "    </tr>\n",
              "  </tbody>\n",
              "</table>\n",
              "</div>"
            ],
            "text/plain": [
              "          C/A  UNIT       SCP  ... EXITS           DATE_TIME Traffic\n",
              "209104  TRAM2  R469  00-05-01  ...   547 2021-04-23 21:00:00    6101\n",
              "209103  TRAM2  R469  00-05-01  ...   547 2021-04-23 17:00:00    6101\n",
              "209102  TRAM2  R469  00-05-01  ...   547 2021-04-23 13:00:00    6101\n",
              "209101  TRAM2  R469  00-05-01  ...   547 2021-04-23 09:00:00    6101\n",
              "209100  TRAM2  R469  00-05-01  ...   547 2021-04-23 05:00:00    6101\n",
              "\n",
              "[5 rows x 12 columns]"
            ]
          },
          "metadata": {},
          "execution_count": 16
        }
      ]
    },
    {
      "cell_type": "code",
      "metadata": {
        "id": "Y_3ZfAA0G36b"
      },
      "source": [
        "turnstiles_daily = (turnstiles_df\n",
        "                        .groupby([\"C/A\", \"UNIT\", \"SCP\", \"STATION\", \"DATE\"],as_index=False)\n",
        "                        .Traffic.first()) # "
      ],
      "execution_count": 17,
      "outputs": []
    },
    {
      "cell_type": "code",
      "metadata": {
        "colab": {
          "base_uri": "https://localhost:8080/",
          "height": 206
        },
        "id": "dG_c1f06G36f",
        "scrolled": false,
        "outputId": "33dc5bc2-08a8-4e1c-b95f-ba4e6c7673b5"
      },
      "source": [
        "turnstiles_daily.head()"
      ],
      "execution_count": 18,
      "outputs": [
        {
          "output_type": "execute_result",
          "data": {
            "text/html": [
              "<div>\n",
              "<style scoped>\n",
              "    .dataframe tbody tr th:only-of-type {\n",
              "        vertical-align: middle;\n",
              "    }\n",
              "\n",
              "    .dataframe tbody tr th {\n",
              "        vertical-align: top;\n",
              "    }\n",
              "\n",
              "    .dataframe thead th {\n",
              "        text-align: right;\n",
              "    }\n",
              "</style>\n",
              "<table border=\"1\" class=\"dataframe\">\n",
              "  <thead>\n",
              "    <tr style=\"text-align: right;\">\n",
              "      <th></th>\n",
              "      <th>C/A</th>\n",
              "      <th>UNIT</th>\n",
              "      <th>SCP</th>\n",
              "      <th>STATION</th>\n",
              "      <th>DATE</th>\n",
              "      <th>Traffic</th>\n",
              "    </tr>\n",
              "  </thead>\n",
              "  <tbody>\n",
              "    <tr>\n",
              "      <th>0</th>\n",
              "      <td>A002</td>\n",
              "      <td>R051</td>\n",
              "      <td>02-00-00</td>\n",
              "      <td>59 ST</td>\n",
              "      <td>01/30/2021</td>\n",
              "      <td>10089644</td>\n",
              "    </tr>\n",
              "    <tr>\n",
              "      <th>1</th>\n",
              "      <td>A002</td>\n",
              "      <td>R051</td>\n",
              "      <td>02-00-00</td>\n",
              "      <td>59 ST</td>\n",
              "      <td>01/31/2021</td>\n",
              "      <td>10090003</td>\n",
              "    </tr>\n",
              "    <tr>\n",
              "      <th>2</th>\n",
              "      <td>A002</td>\n",
              "      <td>R051</td>\n",
              "      <td>02-00-00</td>\n",
              "      <td>59 ST</td>\n",
              "      <td>02/01/2021</td>\n",
              "      <td>10090292</td>\n",
              "    </tr>\n",
              "    <tr>\n",
              "      <th>3</th>\n",
              "      <td>A002</td>\n",
              "      <td>R051</td>\n",
              "      <td>02-00-00</td>\n",
              "      <td>59 ST</td>\n",
              "      <td>02/02/2021</td>\n",
              "      <td>10090808</td>\n",
              "    </tr>\n",
              "    <tr>\n",
              "      <th>4</th>\n",
              "      <td>A002</td>\n",
              "      <td>R051</td>\n",
              "      <td>02-00-00</td>\n",
              "      <td>59 ST</td>\n",
              "      <td>02/03/2021</td>\n",
              "      <td>10091648</td>\n",
              "    </tr>\n",
              "  </tbody>\n",
              "</table>\n",
              "</div>"
            ],
            "text/plain": [
              "    C/A  UNIT       SCP STATION        DATE   Traffic\n",
              "0  A002  R051  02-00-00   59 ST  01/30/2021  10089644\n",
              "1  A002  R051  02-00-00   59 ST  01/31/2021  10090003\n",
              "2  A002  R051  02-00-00   59 ST  02/01/2021  10090292\n",
              "3  A002  R051  02-00-00   59 ST  02/02/2021  10090808\n",
              "4  A002  R051  02-00-00   59 ST  02/03/2021  10091648"
            ]
          },
          "metadata": {},
          "execution_count": 18
        }
      ]
    },
    {
      "cell_type": "code",
      "metadata": {
        "colab": {
          "base_uri": "https://localhost:8080/"
        },
        "id": "cg8RtfZLG36j",
        "outputId": "d44b0489-2e82-47f3-c70e-5d6547a1f88e"
      },
      "source": [
        "turnstiles_daily[[\"PREV_DATE\", \"PREV_Traffic\"]] = (turnstiles_daily\n",
        "                                                       .groupby([\"C/A\", \"UNIT\", \"SCP\", \"STATION\"])[\"DATE\", \"Traffic\"]\n",
        "                                                       .apply(lambda grp: grp.shift(1)))"
      ],
      "execution_count": 20,
      "outputs": [
        {
          "output_type": "stream",
          "name": "stderr",
          "text": [
            "/usr/local/lib/python3.7/dist-packages/ipykernel_launcher.py:2: FutureWarning: Indexing with multiple keys (implicitly converted to a tuple of keys) will be deprecated, use a list instead.\n",
            "  \n"
          ]
        }
      ]
    },
    {
      "cell_type": "code",
      "metadata": {
        "colab": {
          "base_uri": "https://localhost:8080/",
          "height": 206
        },
        "id": "HEzUNsNVG36n",
        "outputId": "869ec597-99e0-47c8-de71-fdcf9b828340"
      },
      "source": [
        "turnstiles_daily.head()"
      ],
      "execution_count": 21,
      "outputs": [
        {
          "output_type": "execute_result",
          "data": {
            "text/html": [
              "<div>\n",
              "<style scoped>\n",
              "    .dataframe tbody tr th:only-of-type {\n",
              "        vertical-align: middle;\n",
              "    }\n",
              "\n",
              "    .dataframe tbody tr th {\n",
              "        vertical-align: top;\n",
              "    }\n",
              "\n",
              "    .dataframe thead th {\n",
              "        text-align: right;\n",
              "    }\n",
              "</style>\n",
              "<table border=\"1\" class=\"dataframe\">\n",
              "  <thead>\n",
              "    <tr style=\"text-align: right;\">\n",
              "      <th></th>\n",
              "      <th>C/A</th>\n",
              "      <th>UNIT</th>\n",
              "      <th>SCP</th>\n",
              "      <th>STATION</th>\n",
              "      <th>DATE</th>\n",
              "      <th>Traffic</th>\n",
              "      <th>PREV_DATE</th>\n",
              "      <th>PREV_Traffic</th>\n",
              "    </tr>\n",
              "  </thead>\n",
              "  <tbody>\n",
              "    <tr>\n",
              "      <th>0</th>\n",
              "      <td>A002</td>\n",
              "      <td>R051</td>\n",
              "      <td>02-00-00</td>\n",
              "      <td>59 ST</td>\n",
              "      <td>01/30/2021</td>\n",
              "      <td>10089644</td>\n",
              "      <td>NaN</td>\n",
              "      <td>NaN</td>\n",
              "    </tr>\n",
              "    <tr>\n",
              "      <th>1</th>\n",
              "      <td>A002</td>\n",
              "      <td>R051</td>\n",
              "      <td>02-00-00</td>\n",
              "      <td>59 ST</td>\n",
              "      <td>01/31/2021</td>\n",
              "      <td>10090003</td>\n",
              "      <td>01/30/2021</td>\n",
              "      <td>10089644.0</td>\n",
              "    </tr>\n",
              "    <tr>\n",
              "      <th>2</th>\n",
              "      <td>A002</td>\n",
              "      <td>R051</td>\n",
              "      <td>02-00-00</td>\n",
              "      <td>59 ST</td>\n",
              "      <td>02/01/2021</td>\n",
              "      <td>10090292</td>\n",
              "      <td>01/31/2021</td>\n",
              "      <td>10090003.0</td>\n",
              "    </tr>\n",
              "    <tr>\n",
              "      <th>3</th>\n",
              "      <td>A002</td>\n",
              "      <td>R051</td>\n",
              "      <td>02-00-00</td>\n",
              "      <td>59 ST</td>\n",
              "      <td>02/02/2021</td>\n",
              "      <td>10090808</td>\n",
              "      <td>02/01/2021</td>\n",
              "      <td>10090292.0</td>\n",
              "    </tr>\n",
              "    <tr>\n",
              "      <th>4</th>\n",
              "      <td>A002</td>\n",
              "      <td>R051</td>\n",
              "      <td>02-00-00</td>\n",
              "      <td>59 ST</td>\n",
              "      <td>02/03/2021</td>\n",
              "      <td>10091648</td>\n",
              "      <td>02/02/2021</td>\n",
              "      <td>10090808.0</td>\n",
              "    </tr>\n",
              "  </tbody>\n",
              "</table>\n",
              "</div>"
            ],
            "text/plain": [
              "    C/A  UNIT       SCP STATION        DATE   Traffic   PREV_DATE  PREV_Traffic\n",
              "0  A002  R051  02-00-00   59 ST  01/30/2021  10089644         NaN           NaN\n",
              "1  A002  R051  02-00-00   59 ST  01/31/2021  10090003  01/30/2021    10089644.0\n",
              "2  A002  R051  02-00-00   59 ST  02/01/2021  10090292  01/31/2021    10090003.0\n",
              "3  A002  R051  02-00-00   59 ST  02/02/2021  10090808  02/01/2021    10090292.0\n",
              "4  A002  R051  02-00-00   59 ST  02/03/2021  10091648  02/02/2021    10090808.0"
            ]
          },
          "metadata": {},
          "execution_count": 21
        }
      ]
    },
    {
      "cell_type": "code",
      "metadata": {
        "colab": {
          "base_uri": "https://localhost:8080/",
          "height": 206
        },
        "id": "IHaAmjhZG36s",
        "outputId": "006615b5-a9c3-49da-e38f-e90c15b8ae07"
      },
      "source": [
        "turnstiles_daily.tail()"
      ],
      "execution_count": 22,
      "outputs": [
        {
          "output_type": "execute_result",
          "data": {
            "text/html": [
              "<div>\n",
              "<style scoped>\n",
              "    .dataframe tbody tr th:only-of-type {\n",
              "        vertical-align: middle;\n",
              "    }\n",
              "\n",
              "    .dataframe tbody tr th {\n",
              "        vertical-align: top;\n",
              "    }\n",
              "\n",
              "    .dataframe thead th {\n",
              "        text-align: right;\n",
              "    }\n",
              "</style>\n",
              "<table border=\"1\" class=\"dataframe\">\n",
              "  <thead>\n",
              "    <tr style=\"text-align: right;\">\n",
              "      <th></th>\n",
              "      <th>C/A</th>\n",
              "      <th>UNIT</th>\n",
              "      <th>SCP</th>\n",
              "      <th>STATION</th>\n",
              "      <th>DATE</th>\n",
              "      <th>Traffic</th>\n",
              "      <th>PREV_DATE</th>\n",
              "      <th>PREV_Traffic</th>\n",
              "    </tr>\n",
              "  </thead>\n",
              "  <tbody>\n",
              "    <tr>\n",
              "      <th>419444</th>\n",
              "      <td>TRAM2</td>\n",
              "      <td>R469</td>\n",
              "      <td>00-05-01</td>\n",
              "      <td>RIT-ROOSEVELT</td>\n",
              "      <td>04/19/2021</td>\n",
              "      <td>6101</td>\n",
              "      <td>04/18/2021</td>\n",
              "      <td>6101.0</td>\n",
              "    </tr>\n",
              "    <tr>\n",
              "      <th>419445</th>\n",
              "      <td>TRAM2</td>\n",
              "      <td>R469</td>\n",
              "      <td>00-05-01</td>\n",
              "      <td>RIT-ROOSEVELT</td>\n",
              "      <td>04/20/2021</td>\n",
              "      <td>6101</td>\n",
              "      <td>04/19/2021</td>\n",
              "      <td>6101.0</td>\n",
              "    </tr>\n",
              "    <tr>\n",
              "      <th>419446</th>\n",
              "      <td>TRAM2</td>\n",
              "      <td>R469</td>\n",
              "      <td>00-05-01</td>\n",
              "      <td>RIT-ROOSEVELT</td>\n",
              "      <td>04/21/2021</td>\n",
              "      <td>6101</td>\n",
              "      <td>04/20/2021</td>\n",
              "      <td>6101.0</td>\n",
              "    </tr>\n",
              "    <tr>\n",
              "      <th>419447</th>\n",
              "      <td>TRAM2</td>\n",
              "      <td>R469</td>\n",
              "      <td>00-05-01</td>\n",
              "      <td>RIT-ROOSEVELT</td>\n",
              "      <td>04/22/2021</td>\n",
              "      <td>6101</td>\n",
              "      <td>04/21/2021</td>\n",
              "      <td>6101.0</td>\n",
              "    </tr>\n",
              "    <tr>\n",
              "      <th>419448</th>\n",
              "      <td>TRAM2</td>\n",
              "      <td>R469</td>\n",
              "      <td>00-05-01</td>\n",
              "      <td>RIT-ROOSEVELT</td>\n",
              "      <td>04/23/2021</td>\n",
              "      <td>6101</td>\n",
              "      <td>04/22/2021</td>\n",
              "      <td>6101.0</td>\n",
              "    </tr>\n",
              "  </tbody>\n",
              "</table>\n",
              "</div>"
            ],
            "text/plain": [
              "          C/A  UNIT       SCP  ... Traffic   PREV_DATE  PREV_Traffic\n",
              "419444  TRAM2  R469  00-05-01  ...    6101  04/18/2021        6101.0\n",
              "419445  TRAM2  R469  00-05-01  ...    6101  04/19/2021        6101.0\n",
              "419446  TRAM2  R469  00-05-01  ...    6101  04/20/2021        6101.0\n",
              "419447  TRAM2  R469  00-05-01  ...    6101  04/21/2021        6101.0\n",
              "419448  TRAM2  R469  00-05-01  ...    6101  04/22/2021        6101.0\n",
              "\n",
              "[5 rows x 8 columns]"
            ]
          },
          "metadata": {},
          "execution_count": 22
        }
      ]
    },
    {
      "cell_type": "code",
      "metadata": {
        "colab": {
          "base_uri": "https://localhost:8080/",
          "height": 206
        },
        "id": "Lv-VA714G362",
        "outputId": "1f535fcc-66e6-4e95-8774-d9093c15b15f"
      },
      "source": [
        "turnstiles_daily[turnstiles_daily[\"Traffic\"] < turnstiles_daily[\"PREV_Traffic\"]].head()"
      ],
      "execution_count": 23,
      "outputs": [
        {
          "output_type": "execute_result",
          "data": {
            "text/html": [
              "<div>\n",
              "<style scoped>\n",
              "    .dataframe tbody tr th:only-of-type {\n",
              "        vertical-align: middle;\n",
              "    }\n",
              "\n",
              "    .dataframe tbody tr th {\n",
              "        vertical-align: top;\n",
              "    }\n",
              "\n",
              "    .dataframe thead th {\n",
              "        text-align: right;\n",
              "    }\n",
              "</style>\n",
              "<table border=\"1\" class=\"dataframe\">\n",
              "  <thead>\n",
              "    <tr style=\"text-align: right;\">\n",
              "      <th></th>\n",
              "      <th>C/A</th>\n",
              "      <th>UNIT</th>\n",
              "      <th>SCP</th>\n",
              "      <th>STATION</th>\n",
              "      <th>DATE</th>\n",
              "      <th>Traffic</th>\n",
              "      <th>PREV_DATE</th>\n",
              "      <th>PREV_Traffic</th>\n",
              "    </tr>\n",
              "  </thead>\n",
              "  <tbody>\n",
              "    <tr>\n",
              "      <th>387</th>\n",
              "      <td>A002</td>\n",
              "      <td>R051</td>\n",
              "      <td>02-03-02</td>\n",
              "      <td>59 ST</td>\n",
              "      <td>03/22/2021</td>\n",
              "      <td>326</td>\n",
              "      <td>03/21/2021</td>\n",
              "      <td>1.551085e+07</td>\n",
              "    </tr>\n",
              "    <tr>\n",
              "      <th>3275</th>\n",
              "      <td>A011</td>\n",
              "      <td>R080</td>\n",
              "      <td>01-03-00</td>\n",
              "      <td>57 ST-7 AV</td>\n",
              "      <td>01/31/2021</td>\n",
              "      <td>1375303228</td>\n",
              "      <td>01/30/2021</td>\n",
              "      <td>1.375304e+09</td>\n",
              "    </tr>\n",
              "    <tr>\n",
              "      <th>3276</th>\n",
              "      <td>A011</td>\n",
              "      <td>R080</td>\n",
              "      <td>01-03-00</td>\n",
              "      <td>57 ST-7 AV</td>\n",
              "      <td>02/01/2021</td>\n",
              "      <td>1375302778</td>\n",
              "      <td>01/31/2021</td>\n",
              "      <td>1.375303e+09</td>\n",
              "    </tr>\n",
              "    <tr>\n",
              "      <th>3277</th>\n",
              "      <td>A011</td>\n",
              "      <td>R080</td>\n",
              "      <td>01-03-00</td>\n",
              "      <td>57 ST-7 AV</td>\n",
              "      <td>02/02/2021</td>\n",
              "      <td>1375302119</td>\n",
              "      <td>02/01/2021</td>\n",
              "      <td>1.375303e+09</td>\n",
              "    </tr>\n",
              "    <tr>\n",
              "      <th>3278</th>\n",
              "      <td>A011</td>\n",
              "      <td>R080</td>\n",
              "      <td>01-03-00</td>\n",
              "      <td>57 ST-7 AV</td>\n",
              "      <td>02/03/2021</td>\n",
              "      <td>1375301090</td>\n",
              "      <td>02/02/2021</td>\n",
              "      <td>1.375302e+09</td>\n",
              "    </tr>\n",
              "  </tbody>\n",
              "</table>\n",
              "</div>"
            ],
            "text/plain": [
              "       C/A  UNIT       SCP  ...     Traffic   PREV_DATE  PREV_Traffic\n",
              "387   A002  R051  02-03-02  ...         326  03/21/2021  1.551085e+07\n",
              "3275  A011  R080  01-03-00  ...  1375303228  01/30/2021  1.375304e+09\n",
              "3276  A011  R080  01-03-00  ...  1375302778  01/31/2021  1.375303e+09\n",
              "3277  A011  R080  01-03-00  ...  1375302119  02/01/2021  1.375303e+09\n",
              "3278  A011  R080  01-03-00  ...  1375301090  02/02/2021  1.375302e+09\n",
              "\n",
              "[5 rows x 8 columns]"
            ]
          },
          "metadata": {},
          "execution_count": 23
        }
      ]
    },
    {
      "cell_type": "code",
      "metadata": {
        "colab": {
          "base_uri": "https://localhost:8080/"
        },
        "id": "GF12jlKRG37A",
        "outputId": "07d93322-4e50-41de-d142-7b68d0f2fb7f"
      },
      "source": [
        "(turnstiles_daily[turnstiles_daily[\"Traffic\"] < turnstiles_daily[\"PREV_Traffic\"]]\n",
        "    .groupby([\"C/A\", \"UNIT\", \"SCP\", \"STATION\"])\n",
        "    .size())"
      ],
      "execution_count": 24,
      "outputs": [
        {
          "output_type": "execute_result",
          "data": {
            "text/plain": [
              "C/A   UNIT  SCP       STATION        \n",
              "A002  R051  02-03-02  59 ST               1\n",
              "A011  R080  01-03-00  57 ST-7 AV         83\n",
              "A025  R023  01-06-00  34 ST-HERALD SQ     1\n",
              "A033  R170  02-00-05  14 ST-UNION SQ      1\n",
              "A047  R087  00-06-01  CITY HALL           1\n",
              "                                         ..\n",
              "R619  R059  00-03-00  GRAND ARMY PLAZ     1\n",
              "R622  R123  00-00-00  FRANKLIN AV        83\n",
              "R624  R124  00-00-02  KINGSTON AV         1\n",
              "R730  R431  00-00-04  EASTCHSTER/DYRE    83\n",
              "S101  R070  00-00-04  ST. GEORGE          1\n",
              "Length: 206, dtype: int64"
            ]
          },
          "metadata": {},
          "execution_count": 24
        }
      ]
    },
    {
      "cell_type": "code",
      "metadata": {
        "colab": {
          "base_uri": "https://localhost:8080/"
        },
        "id": "hXcZXN01G37N",
        "outputId": "fe569077-ed82-4909-aa75-2b052f609747"
      },
      "source": [
        "def get_daily_counts(row, max_counter):\n",
        "    counter = row[\"Traffic\"] - row[\"PREV_Traffic\"]\n",
        "    if counter < 0:\n",
        "        # Maybe counter is reversed?\n",
        "        counter = -counter\n",
        "    if counter > max_counter:\n",
        "        # Maybe counter was reset to 0? \n",
        "        print(row[\"Traffic\"], row[\"PREV_Traffic\"])\n",
        "        counter = min(row[\"Traffic\"], row[\"PREV_Traffic\"])\n",
        "    if counter > max_counter:\n",
        "        # Check it again to make sure we're not still giving a counter that's too big\n",
        "        return 0\n",
        "    return counter\n",
        "\n",
        "# If counter is > 1Million, then the counter might have been reset.  \n",
        "# Just set it to zero as different counters have different cycle limits\n",
        "# It'd probably be a good idea to use a number even significantly smaller than 1 million as the limit!\n",
        "turnstiles_daily[\"DAILY_Traffic\"] = turnstiles_daily.apply(get_daily_counts, axis=1, max_counter=1000000)"
      ],
      "execution_count": 25,
      "outputs": [
        {
          "output_type": "stream",
          "name": "stdout",
          "text": [
            "326 15510851.0\n",
            "301 41538834.0\n",
            "1033 25902636.0\n",
            "393220 202882759.0\n",
            "2685 1648400.0\n",
            "197 2024782.0\n",
            "262152 1023412047.0\n",
            "8273099 5447183.0\n",
            "1638448 8273831.0\n",
            "136 1641837.0\n",
            "766 1288384.0\n",
            "327907 3435059.0\n",
            "180 17473522.0\n",
            "252 1938733.0\n",
            "262388 3737209.0\n",
            "393225 9092129.0\n",
            "108 2669927.0\n",
            "2818578731 11067412.0\n",
            "16712067 8670197.0\n",
            "279 16712991.0\n",
            "417 1089794.0\n",
            "262144 33554713.0\n",
            "63 1303601.0\n",
            "241 202655055.0\n",
            "300 5825694.0\n",
            "198 17997783.0\n",
            "3379 29079019.0\n",
            "112 14331544.0\n",
            "258 1052823.0\n",
            "1377460 2549981.0\n",
            "1261 1379132.0\n",
            "2 83886189.0\n",
            "262402 2052821.0\n",
            "2098790415 0.0\n",
            "79867705 3255074065.0\n",
            "193 21661025.0\n",
            "1670 7282017.0\n",
            "2680 38545082.0\n",
            "262155 83889823.0\n",
            "2021 1167896.0\n",
            "0 5741191.0\n",
            "262145 671505146.0\n",
            "262191 67652738.0\n",
            "687341594 42.0\n",
            "1341 1147371.0\n",
            "2293950 5523203.0\n",
            "192 24344065.0\n",
            "116 2397044.0\n",
            "262613 18971960.0\n",
            "446 15637516.0\n",
            "1214 5929767.0\n",
            "320 11785403.0\n",
            "113 3466670.0\n",
            "262145 83886994.0\n",
            "55 1583496.0\n",
            "66 3223870.0\n",
            "546 1824263347.0\n",
            "854434 14803642.0\n",
            "66651 19697870.0\n",
            "137 32848922.0\n",
            "758 1066014.0\n",
            "3053485533 11979295.0\n",
            "319178279 101978698.0\n",
            "124870006 1896361945.0\n",
            "90536328 1694869603.0\n",
            "1711340792 6725672.0\n",
            "400 42167352.0\n",
            "2684 5969433.0\n",
            "21 1566860.0\n",
            "1102 6082013.0\n",
            "142 1397108.0\n",
            "193 18751205.0\n",
            "1046 19996575.0\n"
          ]
        }
      ]
    },
    {
      "cell_type": "code",
      "metadata": {
        "colab": {
          "base_uri": "https://localhost:8080/",
          "height": 206
        },
        "id": "nnL7k1dgG37Q",
        "outputId": "b2b7e18b-06bc-4946-b83f-84144bde9316"
      },
      "source": [
        "turnstiles_daily.head()"
      ],
      "execution_count": 26,
      "outputs": [
        {
          "output_type": "execute_result",
          "data": {
            "text/html": [
              "<div>\n",
              "<style scoped>\n",
              "    .dataframe tbody tr th:only-of-type {\n",
              "        vertical-align: middle;\n",
              "    }\n",
              "\n",
              "    .dataframe tbody tr th {\n",
              "        vertical-align: top;\n",
              "    }\n",
              "\n",
              "    .dataframe thead th {\n",
              "        text-align: right;\n",
              "    }\n",
              "</style>\n",
              "<table border=\"1\" class=\"dataframe\">\n",
              "  <thead>\n",
              "    <tr style=\"text-align: right;\">\n",
              "      <th></th>\n",
              "      <th>C/A</th>\n",
              "      <th>UNIT</th>\n",
              "      <th>SCP</th>\n",
              "      <th>STATION</th>\n",
              "      <th>DATE</th>\n",
              "      <th>Traffic</th>\n",
              "      <th>PREV_DATE</th>\n",
              "      <th>PREV_Traffic</th>\n",
              "      <th>DAILY_Traffic</th>\n",
              "    </tr>\n",
              "  </thead>\n",
              "  <tbody>\n",
              "    <tr>\n",
              "      <th>0</th>\n",
              "      <td>A002</td>\n",
              "      <td>R051</td>\n",
              "      <td>02-00-00</td>\n",
              "      <td>59 ST</td>\n",
              "      <td>01/30/2021</td>\n",
              "      <td>10089644</td>\n",
              "      <td>NaN</td>\n",
              "      <td>NaN</td>\n",
              "      <td>NaN</td>\n",
              "    </tr>\n",
              "    <tr>\n",
              "      <th>1</th>\n",
              "      <td>A002</td>\n",
              "      <td>R051</td>\n",
              "      <td>02-00-00</td>\n",
              "      <td>59 ST</td>\n",
              "      <td>01/31/2021</td>\n",
              "      <td>10090003</td>\n",
              "      <td>01/30/2021</td>\n",
              "      <td>10089644.0</td>\n",
              "      <td>359.0</td>\n",
              "    </tr>\n",
              "    <tr>\n",
              "      <th>2</th>\n",
              "      <td>A002</td>\n",
              "      <td>R051</td>\n",
              "      <td>02-00-00</td>\n",
              "      <td>59 ST</td>\n",
              "      <td>02/01/2021</td>\n",
              "      <td>10090292</td>\n",
              "      <td>01/31/2021</td>\n",
              "      <td>10090003.0</td>\n",
              "      <td>289.0</td>\n",
              "    </tr>\n",
              "    <tr>\n",
              "      <th>3</th>\n",
              "      <td>A002</td>\n",
              "      <td>R051</td>\n",
              "      <td>02-00-00</td>\n",
              "      <td>59 ST</td>\n",
              "      <td>02/02/2021</td>\n",
              "      <td>10090808</td>\n",
              "      <td>02/01/2021</td>\n",
              "      <td>10090292.0</td>\n",
              "      <td>516.0</td>\n",
              "    </tr>\n",
              "    <tr>\n",
              "      <th>4</th>\n",
              "      <td>A002</td>\n",
              "      <td>R051</td>\n",
              "      <td>02-00-00</td>\n",
              "      <td>59 ST</td>\n",
              "      <td>02/03/2021</td>\n",
              "      <td>10091648</td>\n",
              "      <td>02/02/2021</td>\n",
              "      <td>10090808.0</td>\n",
              "      <td>840.0</td>\n",
              "    </tr>\n",
              "  </tbody>\n",
              "</table>\n",
              "</div>"
            ],
            "text/plain": [
              "    C/A  UNIT       SCP  ...   PREV_DATE PREV_Traffic  DAILY_Traffic\n",
              "0  A002  R051  02-00-00  ...         NaN          NaN            NaN\n",
              "1  A002  R051  02-00-00  ...  01/30/2021   10089644.0          359.0\n",
              "2  A002  R051  02-00-00  ...  01/31/2021   10090003.0          289.0\n",
              "3  A002  R051  02-00-00  ...  02/01/2021   10090292.0          516.0\n",
              "4  A002  R051  02-00-00  ...  02/02/2021   10090808.0          840.0\n",
              "\n",
              "[5 rows x 9 columns]"
            ]
          },
          "metadata": {},
          "execution_count": 26
        }
      ]
    },
    {
      "cell_type": "code",
      "metadata": {
        "scrolled": true,
        "colab": {
          "base_uri": "https://localhost:8080/",
          "height": 206
        },
        "id": "Iq_V7MS1lwug",
        "outputId": "0639e2af-fd5c-4d59-c569-ae3d917682d1"
      },
      "source": [
        "station_daily = turnstiles_daily.groupby([\"STATION\", \"DATE\"])[['DAILY_Traffic']].sum().reset_index()\n",
        "station_daily.head()"
      ],
      "execution_count": 27,
      "outputs": [
        {
          "output_type": "execute_result",
          "data": {
            "text/html": [
              "<div>\n",
              "<style scoped>\n",
              "    .dataframe tbody tr th:only-of-type {\n",
              "        vertical-align: middle;\n",
              "    }\n",
              "\n",
              "    .dataframe tbody tr th {\n",
              "        vertical-align: top;\n",
              "    }\n",
              "\n",
              "    .dataframe thead th {\n",
              "        text-align: right;\n",
              "    }\n",
              "</style>\n",
              "<table border=\"1\" class=\"dataframe\">\n",
              "  <thead>\n",
              "    <tr style=\"text-align: right;\">\n",
              "      <th></th>\n",
              "      <th>STATION</th>\n",
              "      <th>DATE</th>\n",
              "      <th>DAILY_Traffic</th>\n",
              "    </tr>\n",
              "  </thead>\n",
              "  <tbody>\n",
              "    <tr>\n",
              "      <th>0</th>\n",
              "      <td>1 AV</td>\n",
              "      <td>01/30/2021</td>\n",
              "      <td>0.0</td>\n",
              "    </tr>\n",
              "    <tr>\n",
              "      <th>1</th>\n",
              "      <td>1 AV</td>\n",
              "      <td>01/31/2021</td>\n",
              "      <td>8615.0</td>\n",
              "    </tr>\n",
              "    <tr>\n",
              "      <th>2</th>\n",
              "      <td>1 AV</td>\n",
              "      <td>02/01/2021</td>\n",
              "      <td>7157.0</td>\n",
              "    </tr>\n",
              "    <tr>\n",
              "      <th>3</th>\n",
              "      <td>1 AV</td>\n",
              "      <td>02/02/2021</td>\n",
              "      <td>10287.0</td>\n",
              "    </tr>\n",
              "    <tr>\n",
              "      <th>4</th>\n",
              "      <td>1 AV</td>\n",
              "      <td>02/03/2021</td>\n",
              "      <td>14911.0</td>\n",
              "    </tr>\n",
              "  </tbody>\n",
              "</table>\n",
              "</div>"
            ],
            "text/plain": [
              "  STATION        DATE  DAILY_Traffic\n",
              "0    1 AV  01/30/2021            0.0\n",
              "1    1 AV  01/31/2021         8615.0\n",
              "2    1 AV  02/01/2021         7157.0\n",
              "3    1 AV  02/02/2021        10287.0\n",
              "4    1 AV  02/03/2021        14911.0"
            ]
          },
          "metadata": {},
          "execution_count": 27
        }
      ]
    },
    {
      "cell_type": "code",
      "metadata": {
        "scrolled": true,
        "colab": {
          "base_uri": "https://localhost:8080/",
          "height": 206
        },
        "id": "Ipv4si58lwug",
        "outputId": "f8a1af45-2cb9-4d10-8938-844c8cb85b2c"
      },
      "source": [
        "station_totals = station_daily.groupby('STATION').sum()\\\n",
        "    .sort_values('DAILY_Traffic', ascending=False)\\\n",
        "    .reset_index()\n",
        "\n",
        "station_totals.head()"
      ],
      "execution_count": 28,
      "outputs": [
        {
          "output_type": "execute_result",
          "data": {
            "text/html": [
              "<div>\n",
              "<style scoped>\n",
              "    .dataframe tbody tr th:only-of-type {\n",
              "        vertical-align: middle;\n",
              "    }\n",
              "\n",
              "    .dataframe tbody tr th {\n",
              "        vertical-align: top;\n",
              "    }\n",
              "\n",
              "    .dataframe thead th {\n",
              "        text-align: right;\n",
              "    }\n",
              "</style>\n",
              "<table border=\"1\" class=\"dataframe\">\n",
              "  <thead>\n",
              "    <tr style=\"text-align: right;\">\n",
              "      <th></th>\n",
              "      <th>STATION</th>\n",
              "      <th>DAILY_Traffic</th>\n",
              "    </tr>\n",
              "  </thead>\n",
              "  <tbody>\n",
              "    <tr>\n",
              "      <th>0</th>\n",
              "      <td>34 ST-PENN STA</td>\n",
              "      <td>6190055.0</td>\n",
              "    </tr>\n",
              "    <tr>\n",
              "      <th>1</th>\n",
              "      <td>TIMES SQ-42 ST</td>\n",
              "      <td>5317244.0</td>\n",
              "    </tr>\n",
              "    <tr>\n",
              "      <th>2</th>\n",
              "      <td>34 ST-HERALD SQ</td>\n",
              "      <td>5295636.0</td>\n",
              "    </tr>\n",
              "    <tr>\n",
              "      <th>3</th>\n",
              "      <td>86 ST</td>\n",
              "      <td>5213711.0</td>\n",
              "    </tr>\n",
              "    <tr>\n",
              "      <th>4</th>\n",
              "      <td>GRD CNTRL-42 ST</td>\n",
              "      <td>4616105.0</td>\n",
              "    </tr>\n",
              "  </tbody>\n",
              "</table>\n",
              "</div>"
            ],
            "text/plain": [
              "           STATION  DAILY_Traffic\n",
              "0   34 ST-PENN STA      6190055.0\n",
              "1   TIMES SQ-42 ST      5317244.0\n",
              "2  34 ST-HERALD SQ      5295636.0\n",
              "3            86 ST      5213711.0\n",
              "4  GRD CNTRL-42 ST      4616105.0"
            ]
          },
          "metadata": {},
          "execution_count": 28
        }
      ]
    },
    {
      "cell_type": "code",
      "metadata": {
        "colab": {
          "base_uri": "https://localhost:8080/",
          "height": 395
        },
        "id": "fFQFdM9Alwui",
        "outputId": "08903547-daa7-4fc5-959b-0e64a7214182"
      },
      "source": [
        "plt.bar(x=station_totals['STATION'][:10], height=station_totals['DAILY_Traffic'][:10] , color='#6495ED')\n",
        "plt.title('Top 10 Stations by Traffic (April -February 2021)',Family='CALIBRI',fontsize = 10,loc='CENTER',color='red') \n",
        "plt.xlabel('Station', fontsize= 15,family='sans-serif', color='red')\n",
        "plt.ylabel('Traffic', fontsize= 15,family='sans-serif' , color='red');\n",
        "plt.xticks(rotation=90)\n",
        "\n"
      ],
      "execution_count": 30,
      "outputs": [
        {
          "output_type": "execute_result",
          "data": {
            "text/plain": [
              "([0, 1, 2, 3, 4, 5, 6, 7, 8, 9], <a list of 10 Text major ticklabel objects>)"
            ]
          },
          "metadata": {},
          "execution_count": 30
        },
        {
          "output_type": "display_data",
          "data": {
            "image/png": "[encoded data removed]",
            "text/plain": [
              "<Figure size 432x288 with 1 Axes>"
            ]
          },
          "metadata": {
            "needs_background": "light"
          }
        }
      ]
    },
    {
      "cell_type": "code",
      "metadata": {
        "id": "fKDYlhMCESRX"
      },
      "source": [
        "Top5station=station_totals.head(5);"
      ],
      "execution_count": 31,
      "outputs": []
    },
    {
      "cell_type": "code",
      "metadata": {
        "colab": {
          "base_uri": "https://localhost:8080/",
          "height": 541
        },
        "id": "CqgYh6G_Mvn7",
        "outputId": "3983ea06-b75f-48a5-90bc-751efc25c477"
      },
      "source": [
        "plt.figure(figsize=(16,8))\n",
        "plt.title('Top 5 Stations by Traffic (April -February 2021)',family='CALIBRI',fontsize = 20,loc='CENTER',color='black');\n",
        "\n",
        "sns.lineplot(data = Top5station, x = Top5station.STATION, y = Top5station.DAILY_Traffic , color='#191970') \n",
        "plt.xlabel('Station', fontsize= 15,family='sans-serif', color='black') \n",
        "plt.ylabel('Traffic', fontsize= 15,family='sans-serif' , color='black');\n",
        "plt.scatter(Top5station.STATION,Top5station.DAILY_Traffic);\n",
        "plt.grid()\n",
        "plt.show()"
      ],
      "execution_count": 32,
      "outputs": [
        {
          "output_type": "stream",
          "name": "stderr",
          "text": [
            "findfont: Font family ['CALIBRI'] not found. Falling back to DejaVu Sans.\n"
          ]
        },
        {
          "output_type": "display_data",
          "data": {
            "image/png": "[encoded data removed]",
            "text/plain": [
              "<Figure size 1152x576 with 1 Axes>"
            ]
          },
          "metadata": {
            "needs_background": "light"
          }
        }
      ]
    },
    {
      "cell_type": "code",
      "metadata": {
        "colab": {
          "base_uri": "https://localhost:8080/",
          "height": 523
        },
        "id": "qgyYj1XOvo3-",
        "outputId": "84007ea9-6dfc-4075-98fa-fc18e4b5c055"
      },
      "source": [
        "plt.figure(figsize=(15,8))\n",
        "plt.title('Top 5 Stations by Traffic (April -February 2021)',family='CALIBRI',fontsize = 20,loc='CENTER',color='black');\n",
        "sns.barplot(data = Top5station, y =Top5station.STATION, x =Top5station.DAILY_Traffic , palette=\"Blues_d\")\n",
        "plt.xlabel('Traffic', fontsize= 15,family='sans-serif', color='black')\n",
        "plt.ylabel('Station', fontsize= 15,family='sans-serif' , color='black');\n",
        "\n",
        "plt.show()"
      ],
      "execution_count": 33,
      "outputs": [
        {
          "output_type": "display_data",
          "data": {
            "image/png": "[encoded data removed]",
            "text/plain": [
              "<Figure size 1080x576 with 1 Axes>"
            ]
          },
          "metadata": {
            "needs_background": "light"
          }
        }
      ]
    }
  ]
}